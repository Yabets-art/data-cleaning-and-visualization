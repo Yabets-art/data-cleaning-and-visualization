{
 "cells": [
  {
   "cell_type": "code",
   "execution_count": null,
   "id": "6a643e51",
   "metadata": {
    "vscode": {
     "languageId": "plaintext"
    }
   },
   "outputs": [],
   "source": [
    "import pandas as pd\n",
    "import matplotlib.pyplot as plt\n",
    "\n",
    "# Load cleaned data\n",
    "data = pd.read_csv('../data/cleaned_data.csv')\n",
    "\n",
    "# Simple visualization\n",
    "plt.bar(data['Name'], data['Score'], color='skyblue')\n",
    "plt.title('Students Performance')\n",
    "plt.xlabel('Name')\n",
    "plt.ylabel('Score')\n",
    "plt.show()\n"
   ]
  }
 ],
 "metadata": {
  "language_info": {
   "name": "python"
  }
 },
 "nbformat": 4,
 "nbformat_minor": 5
}
